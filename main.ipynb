{
 "cells": [
  {
   "cell_type": "code",
   "execution_count": null,
   "metadata": {},
   "outputs": [],
   "source": [
    "#intalling dependencies\n",
    "import pandas as pd\n",
    "\n",
    "from geopy.geocoders import Nominatim\n",
    "from geopy.extra.rate_limiter import RateLimiter\n",
    "\n",
    "import folium\n",
    "from folium.plugins import HeatMap\n",
    "from folium.plugins import MarkerCluster\n"
   ]
  },
  {
   "cell_type": "code",
   "execution_count": null,
   "metadata": {},
   "outputs": [],
   "source": [
    "##cleaning data from SP GOV DATA\n",
    "url ='https://www.saude.sp.gov.br/resources/cve-centro-de-vigilancia-epidemiologica/areas-de-vigilancia/doencas-de-transmissao-por-vetores-e-zoonoses/dados/dengue/2023/dengue23_se.htm'\n",
    "listOfCases = pd.read_html(url)\n",
    "df = listOfCases[0]\n",
    "tt = df[4:]\n",
    "cidade= tt.iloc[:, 6]\n",
    "cidade.drop(cidade.index[-5:], inplace=True)\n",
    "total = tt.iloc[:, -1]\n",
    "total.drop(total.index[-5:], inplace=True)\n",
    "data = pd.DataFrame()\n",
    "data['Cidade'] = cidade\n",
    "data['Cidade'] = data['Cidade'].str.split(' ', n=1).str[1]\n",
    "data['Total'] = total\n"
   ]
  },
  {
   "cell_type": "code",
   "execution_count": null,
   "metadata": {},
   "outputs": [],
   "source": [
    "#add geolocation on cities using GeoPy\n",
    "locator = Nominatim(user_agent='myGeocoder')\n",
    "geocode = RateLimiter(locator.geocode, min_delay_seconds=1)\n",
    "data['Coords'] = data['Cidade'].apply(geocode)\n"
   ]
  },
  {
   "cell_type": "code",
   "execution_count": null,
   "metadata": {},
   "outputs": [],
   "source": [
    "#add latitude and longitude to values\n",
    "data['lat'] = data['Coords'].apply(lambda loc: loc.latitude if loc else None)\n",
    "data['lon'] = data['Coords'].apply(lambda loc: loc.longitude if loc else None)"
   ]
  },
  {
   "cell_type": "code",
   "execution_count": null,
   "metadata": {},
   "outputs": [],
   "source": [
    "#refactoring data\n",
    "registerWithNaN = data.loc[data['lat'].isna()].sum() #moji das cruzes = total case -> 13 (wrong name of city)\n",
    "location = locator.geocode('Mogi das Cruzes')\n",
    "\n",
    "data.loc[data['Cidade'] == 'Moji das Cruzes', 'Coords'] = location[0]\n",
    "data.loc[data['Cidade'] == 'Moji das Cruzes', 'lat'] = location.latitude\n",
    "data.loc[data['Cidade'] == 'Moji das Cruzes', 'lon'] = location.longitude\n",
    "data.loc[data['Cidade'] == 'Moji das Cruzes', 'Cidade'] = 'Mogi das Cruzes'\n",
    "\n"
   ]
  },
  {
   "cell_type": "code",
   "execution_count": null,
   "metadata": {},
   "outputs": [],
   "source": [
    "#removing outliers based on lat and lon\n",
    "locoutliers = data.copy()\n",
    "locRemove = locoutliers.loc[((locoutliers['lat'] <= -19) & (locoutliers['lat'] >= -25)) & ((locoutliers['lon'] <= -44) & (locoutliers['lon'] >= -53))]"
   ]
  },
  {
   "cell_type": "code",
   "execution_count": null,
   "metadata": {},
   "outputs": [],
   "source": [
    "#duplicating values by total of cases in cities\n",
    "qtdcoords = pd.DataFrame()\n",
    "\n",
    "for i in range(len(locRemove)):\n",
    "    qtdcoords['latG'] = locRemove['lat'].repeat(locRemove['Total'])\n",
    "\n",
    "for i in range(len(locoutliers)):\n",
    "    qtdcoords['lonG'] = locRemove['lon'].repeat(locRemove['Total'])\n"
   ]
  },
  {
   "cell_type": "code",
   "execution_count": null,
   "metadata": {},
   "outputs": [],
   "source": [
    "#Creating heat map using folium\n",
    "heatMap = folium.Map(location=[-21.629235131241312, -49.09230350339458], zoom_start=6.5)  \n",
    "listValues =  qtdcoords.values.tolist()\n",
    "HeatMap(listValues, radius=25).add_to(heatMap)\n",
    "heatMap.save('heatMap.html')\n",
    "heatMap\n"
   ]
  },
  {
   "cell_type": "code",
   "execution_count": null,
   "metadata": {},
   "outputs": [],
   "source": [
    "#Clustering FoliumMap using Cities and Cases\n",
    "clusteringMap = folium.Map(location=[-21.629235131241312, -49.09230350339458], zoom_start=6.5)  \n",
    "markerClustering = MarkerCluster().add_to(clusteringMap)\n",
    "for i in range(0, len(locRemove)):\n",
    "    popup = folium.Popup(locRemove.iloc[i]['Cidade'] + ' ' + locRemove.iloc[i]['Total'] + ' Casos', min_width=100, max_width=200)\n",
    "\n",
    "    folium.Marker(location=[locRemove.iloc[i]['lat'], locRemove.iloc[i]['lon']], popup= popup).add_to(markerClustering)\n",
    "\n",
    "clusteringMap.save('clusteringMap.html')\n",
    "clusteringMap\n",
    "\n"
   ]
  }
 ],
 "metadata": {
  "language_info": {
   "name": "python"
  },
  "orig_nbformat": 4
 },
 "nbformat": 4,
 "nbformat_minor": 2
}
